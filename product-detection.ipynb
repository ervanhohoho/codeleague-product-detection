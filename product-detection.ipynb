{
 "cells": [
  {
   "cell_type": "code",
   "execution_count": 5,
   "metadata": {
    "tags": []
   },
   "outputs": [],
   "source": [
    "from keras.preprocessing.image import ImageDataGenerator, array_to_img, img_to_array, load_img\n",
    "from pathlib import Path\n",
    "import pandas as pd"
   ]
  },
  {
   "cell_type": "code",
   "execution_count": 6,
   "metadata": {},
   "outputs": [
    {
     "output_type": "execute_result",
     "data": {
      "text/plain": "                               filename  category\n0  45e2d0c97f7bdf8cbf3594beb6fdcda0.jpg         3\n1  f74d1a5fc2498bbbfa045c74e3cc333e.jpg         3\n2  f6c172096818c5fab10ecae722840798.jpg         3\n3  251ffd610399ac00fea7709c642676ee.jpg         3\n4  73c7328b8eda399199fdedec6e4badaf.jpg         3",
      "text/html": "<div>\n<style scoped>\n    .dataframe tbody tr th:only-of-type {\n        vertical-align: middle;\n    }\n\n    .dataframe tbody tr th {\n        vertical-align: top;\n    }\n\n    .dataframe thead th {\n        text-align: right;\n    }\n</style>\n<table border=\"1\" class=\"dataframe\">\n  <thead>\n    <tr style=\"text-align: right;\">\n      <th></th>\n      <th>filename</th>\n      <th>category</th>\n    </tr>\n  </thead>\n  <tbody>\n    <tr>\n      <th>0</th>\n      <td>45e2d0c97f7bdf8cbf3594beb6fdcda0.jpg</td>\n      <td>3</td>\n    </tr>\n    <tr>\n      <th>1</th>\n      <td>f74d1a5fc2498bbbfa045c74e3cc333e.jpg</td>\n      <td>3</td>\n    </tr>\n    <tr>\n      <th>2</th>\n      <td>f6c172096818c5fab10ecae722840798.jpg</td>\n      <td>3</td>\n    </tr>\n    <tr>\n      <th>3</th>\n      <td>251ffd610399ac00fea7709c642676ee.jpg</td>\n      <td>3</td>\n    </tr>\n    <tr>\n      <th>4</th>\n      <td>73c7328b8eda399199fdedec6e4badaf.jpg</td>\n      <td>3</td>\n    </tr>\n  </tbody>\n</table>\n</div>"
     },
     "metadata": {},
     "execution_count": 6
    }
   ],
   "source": [
    "# Load training data,\n",
    "df = pd.read_csv('resource/train.csv')\n",
    "df.shape\n",
    "df.head()"
   ]
  },
  {
   "cell_type": "code",
   "execution_count": 7,
   "metadata": {
    "tags": []
   },
   "outputs": [
    {
     "output_type": "execute_result",
     "data": {
      "text/plain": "                                   filename category  \\\n53136  e850ac9ba4408f382e7babc32af12021.jpg        0   \n55392  7413808b024a44b1a94b0012af181135.jpg        0   \n55521  b4f1cb2f28a6212dff2d82f771579c5b.jpg        0   \n53386  c79da14c116b213c7f14882c912959f2.jpg        0   \n54879  ff528c0b3bf525fc28530c9dc4edf700.jpg        0   \n...                                     ...      ...   \n80923  7f93e6d91f9dcc9bb9f28a82a2f306a5.jpg       41   \n79299  8e227f4a0448a062eb8267e424c903d1.jpg       41   \n81444  45df8842f798b46bde954cae8eb792b4.jpg       41   \n79041  00c1dddee29a7f05874ac97b209514b0.jpg       41   \n79560  b23d4900deb91abd6facbbffe941a08d.jpg       41   \n\n                                                    path  \n53136  resource/train/train/00/e850ac9ba4408f382e7bab...  \n55392  resource/train/train/00/7413808b024a44b1a94b00...  \n55521  resource/train/train/00/b4f1cb2f28a6212dff2d82...  \n53386  resource/train/train/00/c79da14c116b213c7f1488...  \n54879  resource/train/train/00/ff528c0b3bf525fc28530c...  \n...                                                  ...  \n80923  resource/train/train/41/7f93e6d91f9dcc9bb9f28a...  \n79299  resource/train/train/41/8e227f4a0448a062eb8267...  \n81444  resource/train/train/41/45df8842f798b46bde954c...  \n79041  resource/train/train/41/00c1dddee29a7f05874ac9...  \n79560  resource/train/train/41/b23d4900deb91abd6facbb...  \n\n[15810 rows x 3 columns]",
      "text/html": "<div>\n<style scoped>\n    .dataframe tbody tr th:only-of-type {\n        vertical-align: middle;\n    }\n\n    .dataframe tbody tr th {\n        vertical-align: top;\n    }\n\n    .dataframe thead th {\n        text-align: right;\n    }\n</style>\n<table border=\"1\" class=\"dataframe\">\n  <thead>\n    <tr style=\"text-align: right;\">\n      <th></th>\n      <th>filename</th>\n      <th>category</th>\n      <th>path</th>\n    </tr>\n  </thead>\n  <tbody>\n    <tr>\n      <th>53136</th>\n      <td>e850ac9ba4408f382e7babc32af12021.jpg</td>\n      <td>0</td>\n      <td>resource/train/train/00/e850ac9ba4408f382e7bab...</td>\n    </tr>\n    <tr>\n      <th>55392</th>\n      <td>7413808b024a44b1a94b0012af181135.jpg</td>\n      <td>0</td>\n      <td>resource/train/train/00/7413808b024a44b1a94b00...</td>\n    </tr>\n    <tr>\n      <th>55521</th>\n      <td>b4f1cb2f28a6212dff2d82f771579c5b.jpg</td>\n      <td>0</td>\n      <td>resource/train/train/00/b4f1cb2f28a6212dff2d82...</td>\n    </tr>\n    <tr>\n      <th>53386</th>\n      <td>c79da14c116b213c7f14882c912959f2.jpg</td>\n      <td>0</td>\n      <td>resource/train/train/00/c79da14c116b213c7f1488...</td>\n    </tr>\n    <tr>\n      <th>54879</th>\n      <td>ff528c0b3bf525fc28530c9dc4edf700.jpg</td>\n      <td>0</td>\n      <td>resource/train/train/00/ff528c0b3bf525fc28530c...</td>\n    </tr>\n    <tr>\n      <th>...</th>\n      <td>...</td>\n      <td>...</td>\n      <td>...</td>\n    </tr>\n    <tr>\n      <th>80923</th>\n      <td>7f93e6d91f9dcc9bb9f28a82a2f306a5.jpg</td>\n      <td>41</td>\n      <td>resource/train/train/41/7f93e6d91f9dcc9bb9f28a...</td>\n    </tr>\n    <tr>\n      <th>79299</th>\n      <td>8e227f4a0448a062eb8267e424c903d1.jpg</td>\n      <td>41</td>\n      <td>resource/train/train/41/8e227f4a0448a062eb8267...</td>\n    </tr>\n    <tr>\n      <th>81444</th>\n      <td>45df8842f798b46bde954cae8eb792b4.jpg</td>\n      <td>41</td>\n      <td>resource/train/train/41/45df8842f798b46bde954c...</td>\n    </tr>\n    <tr>\n      <th>79041</th>\n      <td>00c1dddee29a7f05874ac97b209514b0.jpg</td>\n      <td>41</td>\n      <td>resource/train/train/41/00c1dddee29a7f05874ac9...</td>\n    </tr>\n    <tr>\n      <th>79560</th>\n      <td>b23d4900deb91abd6facbbffe941a08d.jpg</td>\n      <td>41</td>\n      <td>resource/train/train/41/b23d4900deb91abd6facbb...</td>\n    </tr>\n  </tbody>\n</table>\n<p>15810 rows × 3 columns</p>\n</div>"
     },
     "metadata": {},
     "execution_count": 7
    }
   ],
   "source": [
    "#Image Paths\n",
    "from pathlib import Path\n",
    "\n",
    "pathlist = Path('resource/train').glob('**/*.jpg')\n",
    "pathlistDict = {}\n",
    "for path in pathlist:\n",
    "     # because path is object not string\n",
    "     path_in_str = str(path)\n",
    "     imgName = path_in_str.rsplit('/',1)[1]\n",
    "     pathlistDict[imgName] = path_in_str\n",
    "\n",
    "df['path'] = df['filename'].map(pathlistDict)\n",
    "minCategory = df['category'].min()\n",
    "maxCategory = df['category'].max()\n",
    "df.set_index('category')\n",
    "sampled_df = pd.DataFrame(columns=['filename', 'category','path'])\n",
    "for i in range(minCategory,maxCategory + 1):\n",
    "     categorized = df[df['category'] == i]\n",
    "     sampled_cat = categorized.sample(frac=0.15, random_state=1)\n",
    "     sampled_df = sampled_df.append(sampled_cat)\n",
    "sampled_df\n",
    "# sampled_df = df.sample(frac=0.5, random_state=1)\n",
    "# sampled_df.head()"
   ]
  },
  {
   "cell_type": "code",
   "execution_count": 8,
   "metadata": {
    "tags": []
   },
   "outputs": [
    {
     "output_type": "execute_result",
     "data": {
      "text/plain": "10002"
     },
     "metadata": {},
     "execution_count": 8
    }
   ],
   "source": [
    "imgArray = []\n",
    "count = 0\n",
    "for idx, row in sampled_df.iterrows():\n",
    "    path = row['path']\n",
    "    image = load_img(path, grayscale=True, target_size=(200, 200))\n",
    "    # x = img_to_array(image)\n",
    "    # imgArray.append(x)\n",
    "    imgArray.append(image)\n",
    "    if(count > 10000):\n",
    "        break\n",
    "    count = count + 1\n",
    "len(imgArray)"
   ]
  },
  {
   "cell_type": "code",
   "execution_count": 5,
   "metadata": {},
   "outputs": [],
   "source": [
    "# MODEL\n",
    "from keras.models import Sequential\n",
    "from keras.layers import Conv2D, MaxPooling2D\n",
    "from keras.layers import Activation, Dropout, Flatten, Dense\n",
    "\n",
    "model = Sequential()\n",
    "model.add(Conv2D(32, (3, 3), input_shape=(3, 150, 150), data_format='channels_first'))\n",
    "model.add(Activation('relu'))\n",
    "model.add(MaxPooling2D(pool_size=(2, 2)))\n",
    "\n",
    "model.add(Conv2D(32, (3, 3)))\n",
    "model.add(Activation('relu'))\n",
    "model.add(MaxPooling2D(pool_size=(2, 2)))\n",
    "\n",
    "model.add(Conv2D(64, (3, 3)))\n",
    "model.add(Activation('relu'))\n",
    "model.add(MaxPooling2D(pool_size=(2, 2)))"
   ]
  },
  {
   "cell_type": "code",
   "execution_count": null,
   "metadata": {},
   "outputs": [],
   "source": [
    "model.add(Flatten())  # this converts our 3D feature maps to 1D feature vectors\n",
    "model.add(Dense(64))\n",
    "model.add(Activation('relu'))\n",
    "model.add(Dropout(0.5))\n",
    "model.add(Dense(1))\n",
    "model.add(Activation('sigmoid'))\n",
    "\n",
    "model.compile(loss='binary_crossentropy',\n",
    "              optimizer='rmsprop',\n",
    "              metrics=['accuracy'])"
   ]
  }
 ],
 "metadata": {
  "language_info": {
   "codemirror_mode": {
    "name": "ipython",
    "version": 3
   },
   "file_extension": ".py",
   "mimetype": "text/x-python",
   "name": "python",
   "nbconvert_exporter": "python",
   "pygments_lexer": "ipython3",
   "version": "3.6.9-final"
  },
  "orig_nbformat": 2,
  "kernelspec": {
   "name": "python36964bitvenvvenvff6b5ee3e9a248ff9a5b52dcc64c7046",
   "display_name": "Python 3.6.9 64-bit ('venv': venv)"
  }
 },
 "nbformat": 4,
 "nbformat_minor": 2
}